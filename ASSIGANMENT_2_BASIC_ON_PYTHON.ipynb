{
  "nbformat": 4,
  "nbformat_minor": 0,
  "metadata": {
    "colab": {
      "provenance": [],
      "toc_visible": true,
      "collapsed_sections": [
        "SCSnMybyknaA",
        "LM84iRb8k4pp",
        "kzcpbhCkn9EP"
      ],
      "authorship_tag": "ABX9TyPFdNGoXDupfd/N+c+bFLQ/",
      "include_colab_link": true
    },
    "kernelspec": {
      "name": "python3",
      "display_name": "Python 3"
    },
    "language_info": {
      "name": "python"
    }
  },
  "cells": [
    {
      "cell_type": "markdown",
      "metadata": {
        "id": "view-in-github",
        "colab_type": "text"
      },
      "source": [
        "<a href=\"https://colab.research.google.com/github/HernanContreras19/ASSIGNAMENTS/blob/main/ASSIGANMENT_2_BASIC_ON_PYTHON.ipynb\" target=\"_parent\"><img src=\"https://colab.research.google.com/assets/colab-badge.svg\" alt=\"Open In Colab\"/></a>"
      ]
    },
    {
      "cell_type": "markdown",
      "source": [
        "Assignment 2 Basics on Python\n"
      ],
      "metadata": {
        "id": "bsgjIjIFkIIx"
      }
    },
    {
      "cell_type": "markdown",
      "source": [
        "## **Text Analysis Tool:**\n",
        "\n"
      ],
      "metadata": {
        "id": "SCSnMybyknaA"
      }
    },
    {
      "cell_type": "code",
      "source": [
        "from collections import Counter\n",
        "\n",
        "def analyze_text(content):\n",
        "    # Divide the content into paragraphs\n",
        "    paragraph_list = content.split('\\n\\n')\n",
        "    paragraph_count = len([p for p in paragraph_list if p.strip()])\n",
        "\n",
        "    # Divide the content into sentences\n",
        "    sentence_list = content.replace('!', '.').replace('?', '.').split('.')\n",
        "    sentence_count = len([s for s in sentence_list if s.strip()])\n",
        "\n",
        "    # Divide the content into words\n",
        "    word_list = content.split()\n",
        "    word_count = len(word_list)\n",
        "\n",
        "    # Calculate the average word length\n",
        "    average_word_length = sum(len(w) for w in word_list) / word_count if word_count > 0 else 0\n",
        "\n",
        "    # Find the most frequent words\n",
        "    word_frequency = Counter(word_list)\n",
        "    top_words = word_frequency.most_common(10)\n",
        "\n",
        "    print(f'Total paragraphs: {paragraph_count}')\n",
        "    print(f'Total sentences: {sentence_count}')\n",
        "    print(f'Total words: {word_count}')\n",
        "    print(f'Average word length: {average_word_length:.2f}')\n",
        "    print('Top 10 most frequent words:')\n",
        "    for word, count in top_words:\n",
        "        print(f'{word}: {count}')\n",
        "\n",
        "# Example to test the function with user input\n",
        "user_input = input(\"Please enter the text to analyze: \")\n",
        "analyze_text(user_input)"
      ],
      "metadata": {
        "colab": {
          "base_uri": "https://localhost:8080/"
        },
        "id": "YIXoA7dJoywT",
        "outputId": "bd1698ea-438a-4858-8338-ec70709ca88c"
      },
      "execution_count": 10,
      "outputs": [
        {
          "output_type": "stream",
          "name": "stdout",
          "text": [
            "Please enter the text to analyze:  I am happy to join with you today in what will go down in history as the greatest demonstration for freedom in the history of our nation.\n",
            "Total paragraphs: 1\n",
            "Total sentences: 1\n",
            "Total words: 27\n",
            "Average word length: 4.11\n",
            "Top 10 most frequent words:\n",
            "in: 3\n",
            "history: 2\n",
            "the: 2\n",
            "I: 1\n",
            "am: 1\n",
            "happy: 1\n",
            "to: 1\n",
            "join: 1\n",
            "with: 1\n",
            "you: 1\n"
          ]
        }
      ]
    },
    {
      "cell_type": "markdown",
      "source": [
        "## **Hangman Game:**"
      ],
      "metadata": {
        "id": "LM84iRb8k4pp"
      }
    },
    {
      "cell_type": "code",
      "source": [
        "import random\n",
        "\n",
        "def hangman():\n",
        "    # Define a list of words to choose from\n",
        "    words = ['astronaut', 'police', 'stuntman', 'carpenter', 'lifeguard', 'engineer', 'teacher']\n",
        "\n",
        "    # Randomly choose a word from the list\n",
        "    word = random.choice(words)\n",
        "\n",
        "    # Create a list to store guessed letters\n",
        "    guessed_letters = []\n",
        "\n",
        "    attempts_left = 10\n",
        "\n",
        "    print(\"Welcome to Hangman!\")\n",
        "\n",
        "    # Start the game loop that continues until the player runs out of attempts\n",
        "    while attempts_left > 0:\n",
        "        word_guessed = True\n",
        "\n",
        "        # Display the word with guessed letters and underscores for remaining letters\n",
        "        for char in word:\n",
        "            if char in guessed_letters:  # Show guessed letters\n",
        "                print(char, end=' ')\n",
        "            else:  # Show underscores for letters not yet guessed\n",
        "                print('_', end=' ')\n",
        "                word_guessed = False\n",
        "\n",
        "        # Check if the entire word has been guessed\n",
        "        if word_guessed:\n",
        "            print(\"\\nCongratulations, you won!\")\n",
        "            return\n",
        "\n",
        "        # Ask the player to guess a letter\n",
        "        guess = input(\"\\nGuess a letter: \").lower()\n",
        "\n",
        "        # If the guessed letter is in the word, add it to the guessed list\n",
        "        if guess in word and guess not in guessed_letters:\n",
        "            guessed_letters.append(guess)\n",
        "        elif guess in guessed_letters:\n",
        "            print(\"You've already guessed that letter!\")\n",
        "        else:\n",
        "            # If the guessed letter is incorrect, decrement the attempts left\n",
        "            attempts_left -= 1\n",
        "            print(f\"Wrong guess! You have {attempts_left} attempts remaining.\")\n",
        "\n",
        "    # If the player runs out of attempts, the game ends\n",
        "    print(f\"Game over! The correct word was: {word}\")\n",
        "\n",
        "# Call the hangman function to start the game\n",
        "hangman()"
      ],
      "metadata": {
        "colab": {
          "base_uri": "https://localhost:8080/"
        },
        "id": "bEYlC-Kik33w",
        "outputId": "209be455-73ad-419f-806d-1c694a3e0cf0"
      },
      "execution_count": 6,
      "outputs": [
        {
          "output_type": "stream",
          "name": "stdout",
          "text": [
            "Welcome to Hangman!\n",
            "_ _ _ _ _ _ _ _ _ \n",
            "Guess a letter: a\n",
            "a _ _ _ _ _ a _ _ \n",
            "Guess a letter: s\n",
            "a s _ _ _ _ a _ _ \n",
            "Guess a letter: t\n",
            "a s t _ _ _ a _ t \n",
            "Guess a letter: r\n",
            "a s t r _ _ a _ t \n",
            "Guess a letter: o\n",
            "a s t r o _ a _ t \n",
            "Guess a letter: n\n",
            "a s t r o n a _ t \n",
            "Guess a letter: u\n",
            "a s t r o n a u t \n",
            "Congratulations, you won!\n"
          ]
        }
      ]
    },
    {
      "cell_type": "code",
      "source": [
        "from collections import Counter\n",
        "\n",
        "def analyze_text(content):\n",
        "    # Divide the content into paragraphs\n",
        "    paragraph_list = content.split('\\n\\n')\n",
        "    paragraph_count = len([p for p in paragraph_list if p.strip()])\n",
        "\n",
        "    # Divide the content into sentences\n",
        "    sentence_list = content.replace('!', '.').replace('?', '.').split('.')\n",
        "    sentence_count = len([s for s in sentence_list if s.strip()])\n",
        "\n",
        "    # Divide the content into words\n",
        "    word_list = content.split()\n",
        "    word_count = len(word_list)\n",
        "\n",
        "    # Calculate the average word length\n",
        "    average_word_length = sum(len(w) for w in word_list) / word_count if word_count > 0 else 0\n",
        "\n",
        "    # Find the most frequent words\n",
        "    word_frequency = Counter(word_list)\n",
        "    top_words = word_frequency.most_common(10)\n",
        "\n",
        "    print(f'Total paragraphs: {paragraph_count}')\n",
        "    print(f'Total sentences: {sentence_count}')\n",
        "    print(f'Total words: {word_count}')\n",
        "    print(f'Average word length: {average_word_length:.2f}')\n",
        "    print('Top 10 most frequent words:')\n",
        "    for word, count in top_words:\n",
        "        print(f'{word}: {count}')\n",
        "\n",
        "# Example to test the function with user input\n",
        "user_input = input(\"Please enter the text to analyze: \")\n",
        "analyze_text(user_input)"
      ],
      "metadata": {
        "colab": {
          "base_uri": "https://localhost:8080/"
        },
        "id": "_jnyTEtmkaEa",
        "outputId": "434a6329-97d2-46d1-d476-d32edb2cc958"
      },
      "execution_count": 2,
      "outputs": [
        {
          "output_type": "stream",
          "name": "stdout",
          "text": [
            "Please enter the text to analyze:  I am happy to join with you today in what will go down in history as the greatest demonstration for freedom in the history of our nation.\n",
            "Total paragraphs: 1\n",
            "Total sentences: 1\n",
            "Total words: 27\n",
            "Average word length: 4.11\n",
            "Top 10 most frequent words:\n",
            "in: 3\n",
            "history: 2\n",
            "the: 2\n",
            "I: 1\n",
            "am: 1\n",
            "happy: 1\n",
            "to: 1\n",
            "join: 1\n",
            "with: 1\n",
            "you: 1\n"
          ]
        }
      ]
    },
    {
      "cell_type": "code",
      "source": [],
      "metadata": {
        "id": "TjbWsxu7kfv4"
      },
      "execution_count": null,
      "outputs": []
    },
    {
      "cell_type": "markdown",
      "source": [
        "# **Number guessing game**"
      ],
      "metadata": {
        "id": "kzcpbhCkn9EP"
      }
    },
    {
      "cell_type": "code",
      "source": [
        "import random\n",
        "\n",
        "def number_guessing_game():\n",
        "    # Randomly select a number between 1 and 100\n",
        "    target_number = random.randint(1, 100)\n",
        "\n",
        "    # Prompt the user to make a guess\n",
        "    user_guess = int(input(\"Pick a number between 1 and 100: \"))\n",
        "\n",
        "    # Continue to prompt until the user guesses the correct number\n",
        "    while user_guess != target_number:\n",
        "        # Hint if the guess is lower than the target\n",
        "        if user_guess < target_number:\n",
        "            print(\"Guess higher!\")\n",
        "        # Hint if the guess is higher than the target\n",
        "        else:\n",
        "            print(\"Guess lower!\")\n",
        "        # Request another guess\n",
        "        user_guess = int(input(\"Give it another shot: \"))\n",
        "\n",
        "    # Congratulate the user on guessing correctly\n",
        "    print(\"Well done! You found the number.\")\n",
        "\n",
        "# Begin the game\n",
        "number_guessing_game()"
      ],
      "metadata": {
        "colab": {
          "base_uri": "https://localhost:8080/"
        },
        "id": "6SeN8zGhoEll",
        "outputId": "c3fb1c91-76e0-4926-e88f-9bf9cddeb208"
      },
      "execution_count": 9,
      "outputs": [
        {
          "output_type": "stream",
          "name": "stdout",
          "text": [
            "Pick a number between 1 and 100: 50\n",
            "Guess higher!\n",
            "Give it another shot: 70\n",
            "Guess higher!\n",
            "Give it another shot: 90\n",
            "Guess lower!\n",
            "Give it another shot: 85\n",
            "Guess lower!\n",
            "Give it another shot: 82\n",
            "Guess higher!\n",
            "Give it another shot: 83\n",
            "Well done! You found the number.\n"
          ]
        }
      ]
    }
  ]
}